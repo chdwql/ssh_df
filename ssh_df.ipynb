{
 "cells": [
  {
   "cell_type": "code",
   "execution_count": null,
   "metadata": {},
   "outputs": [],
   "source": [
    "import space_check as sc\n",
    "import pandas as pd"
   ]
  },
  {
   "cell_type": "code",
   "execution_count": null,
   "metadata": {},
   "outputs": [],
   "source": [
    "config_file = 'config.ini'\n",
    "results = sc.read_config(config_file)"
   ]
  },
  {
   "cell_type": "code",
   "execution_count": null,
   "metadata": {},
   "outputs": [],
   "source": [
    "for key, value in results.items():\n",
    "    results[key] = value.replace('-', '')\n",
    "\n",
    "df = pd.DataFrame(\n",
    "    ((key, *value.replace('total', '').replace('\\n', '').split()) for key, value in results.items()),\n",
    "    columns=['Name', 'Size', 'Used', 'Available', 'Use%']\n",
    ")"
   ]
  },
  {
   "cell_type": "code",
   "execution_count": null,
   "metadata": {},
   "outputs": [],
   "source": [
    "df.to_excel('used.xlsx')"
   ]
  },
  {
   "cell_type": "code",
   "execution_count": null,
   "metadata": {},
   "outputs": [],
   "source": [
    "table_space = pd.read_html('http://10.37.181.12:9292/qz/fzgongju/shcema/shcema_oper.jsp', index_col=0, encoding='GBK')"
   ]
  },
  {
   "cell_type": "code",
   "execution_count": null,
   "metadata": {},
   "outputs": [],
   "source": [
    "table_space = table_space[0]\n",
    "table_space.columns = table_space.columns.droplevel(level=0)\n",
    "table_space.drop(table_space.index[-1], inplace=True)\n",
    "table_space_pivot = table_space.pivot(columns='方案名称', values='已用百分比')"
   ]
  },
  {
   "cell_type": "code",
   "execution_count": null,
   "metadata": {},
   "outputs": [],
   "source": [
    "table_space_pivot = table_space_pivot.reindex([\n",
    "    '主库', \n",
    "    '备份库', \n",
    "    '泰安地震监测中心站', \n",
    "    '烟台地震监测中心站', \n",
    "    '聊城地震监测中心站', \n",
    "    '菏泽地震监测中心站', \n",
    "    '潍坊地震监测中心站', \n",
    "    '临沂地震监测中心站', \n",
    "    '青岛地震监测中心站'\n",
    "])\n",
    "\n",
    "table_space_pivot.to_excel('table_space.xlsx')"
   ]
  }
 ],
 "metadata": {
  "kernelspec": {
   "display_name": "check_web",
   "language": "python",
   "name": "python3"
  },
  "language_info": {
   "codemirror_mode": {
    "name": "ipython",
    "version": 3
   },
   "file_extension": ".py",
   "mimetype": "text/x-python",
   "name": "python",
   "nbconvert_exporter": "python",
   "pygments_lexer": "ipython3",
   "version": "3.9.20"
  }
 },
 "nbformat": 4,
 "nbformat_minor": 2
}
