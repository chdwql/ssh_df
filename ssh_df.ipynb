{
 "cells": [
  {
   "cell_type": "code",
   "execution_count": 6,
   "metadata": {},
   "outputs": [],
   "source": [
    "import space_check as sc\n",
    "import pandas as pd"
   ]
  },
  {
   "cell_type": "code",
   "execution_count": 4,
   "metadata": {},
   "outputs": [
    {
     "name": "stdout",
     "output_type": "stream",
     "text": [
      "checking host 10.37.181.12...\n",
      "checking host 10.37.187.191...\n",
      "checking host 10.37.181.11...\n",
      "checking host 10.37.75.6...\n",
      "checking host 10.37.121.170...\n",
      "checking host 10.37.132.12...\n",
      "checking host 10.37.56.181...\n",
      "checking host 10.37.181.114...\n",
      "checking host 10.37.187.241...\n"
     ]
    }
   ],
   "source": [
    "config_file = 'config_1.ini'\n",
    "results = sc.read_config(config_file)"
   ]
  },
  {
   "cell_type": "code",
   "execution_count": 22,
   "metadata": {},
   "outputs": [],
   "source": [
    "for key, value in results.items():\n",
    "    results[key] = value.replace('-', '')"
   ]
  },
  {
   "cell_type": "code",
   "execution_count": 24,
   "metadata": {},
   "outputs": [],
   "source": [
    "df = pd.DataFrame(\n",
    "    ((key, *value.replace('total', '').replace('\\n', '').split()) for key, value in results.items()),\n",
    "    columns=['Name', 'Size', 'Used', 'Available', 'Use%']\n",
    ")"
   ]
  },
  {
   "cell_type": "code",
   "execution_count": 26,
   "metadata": {},
   "outputs": [],
   "source": [
    "df.to_excel('used.xlsx')"
   ]
  }
 ],
 "metadata": {
  "kernelspec": {
   "display_name": "base",
   "language": "python",
   "name": "python3"
  },
  "language_info": {
   "codemirror_mode": {
    "name": "ipython",
    "version": 3
   },
   "file_extension": ".py",
   "mimetype": "text/x-python",
   "name": "python",
   "nbconvert_exporter": "python",
   "pygments_lexer": "ipython3",
   "version": "3.9.18"
  }
 },
 "nbformat": 4,
 "nbformat_minor": 2
}
