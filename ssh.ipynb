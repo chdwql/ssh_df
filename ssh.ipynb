{
 "cells": [
  {
   "cell_type": "code",
   "execution_count": 1,
   "metadata": {},
   "outputs": [],
   "source": [
    "import paramiko"
   ]
  },
  {
   "cell_type": "code",
   "execution_count": 2,
   "metadata": {},
   "outputs": [],
   "source": [
    "# 区域中心\n",
    "host = '10.37.181.12'\n",
    "user = 'root'\n",
    "password = 'sdqztw-1'"
   ]
  },
  {
   "cell_type": "code",
   "execution_count": 3,
   "metadata": {},
   "outputs": [],
   "source": [
    "# 备份\n",
    "host = '10.37.187.191'\n",
    "user = 'root'\n",
    "password = 'sdqztw-3'"
   ]
  },
  {
   "cell_type": "code",
   "execution_count": 23,
   "metadata": {},
   "outputs": [],
   "source": [
    "# 烟台\n",
    "host = '10.37.181.11'\n",
    "user = 'root'\n",
    "password = 'sdjn-1'"
   ]
  },
  {
   "cell_type": "code",
   "execution_count": 26,
   "metadata": {},
   "outputs": [],
   "source": [
    "# 泰安\n",
    "host = '10.37.75.6'\n",
    "user = 'root'\n",
    "password = 'taian000000'"
   ]
  },
  {
   "cell_type": "code",
   "execution_count": 2,
   "metadata": {},
   "outputs": [],
   "source": [
    "# 聊城\n",
    "host = '10.37.121.170'\n",
    "user = 'root'\n",
    "password = 'Jwt8531027,'"
   ]
  },
  {
   "cell_type": "code",
   "execution_count": 30,
   "metadata": {},
   "outputs": [],
   "source": [
    "# 临沂\n",
    "host = '10.37.132.12'\n",
    "user = 'root'\n",
    "password = 'root@sdmls'"
   ]
  },
  {
   "cell_type": "code",
   "execution_count": 32,
   "metadata": {},
   "outputs": [],
   "source": [
    "# 潍坊\n",
    "host = '10.37.61.7'\n",
    "user = 'root'\n",
    "password = 'root007@sdaq37006'"
   ]
  },
  {
   "cell_type": "code",
   "execution_count": 2,
   "metadata": {},
   "outputs": [],
   "source": [
    "# 菏泽\n",
    "host = '10.37.181.114'\n",
    "user = 'root'\n",
    "password = 'sdqztw-5'"
   ]
  },
  {
   "cell_type": "code",
   "execution_count": 4,
   "metadata": {},
   "outputs": [],
   "source": [
    "# 青岛\n",
    "host = '10.37.187.241'\n",
    "user = 'root'\n",
    "password = 'sdqztw'"
   ]
  },
  {
   "cell_type": "code",
   "execution_count": 3,
   "metadata": {},
   "outputs": [
    {
     "name": "stdout",
     "output_type": "stream",
     "text": [
      "Filesystem      Size  Used Avail Use% Mounted on\n",
      "/dev/sda3       518G  486G  5.9G  99% /\n",
      "devtmpfs        7.8G  172K  7.8G   1% /dev\n",
      "tmpfs           7.8G  956K  7.8G   1% /dev/shm\n",
      "/dev/sda1        98M   35M   59M  37% /boot\n",
      "/dev/sdb1      1008G  423G  535G  45% /opt/oracle/oradata1\n",
      "\n"
     ]
    }
   ],
   "source": [
    "ssh = paramiko.SSHClient()\n",
    "ssh.set_missing_host_key_policy(paramiko.AutoAddPolicy())\n",
    "ssh.connect(hostname=host, port=22, username=user, password=password)\n",
    "stdin, stdout, stderr = ssh.exec_command('df -h')\n",
    "res, err = stdout.read(), stderr.read()\n",
    "result = res if res else err\n",
    "ssh.close()\n",
    "print(result.decode())"
   ]
  }
 ],
 "metadata": {
  "kernelspec": {
   "display_name": "Python 3 (ipykernel)",
   "language": "python",
   "name": "python3"
  },
  "language_info": {
   "codemirror_mode": {
    "name": "ipython",
    "version": 3
   },
   "file_extension": ".py",
   "mimetype": "text/x-python",
   "name": "python",
   "nbconvert_exporter": "python",
   "pygments_lexer": "ipython3",
   "version": "3.8.13"
  },
  "orig_nbformat": 4,
  "vscode": {
   "interpreter": {
    "hash": "42c9c6e43b9ee0fc22687a48068a5a65b535cb622a7606f9009c39c135991202"
   }
  }
 },
 "nbformat": 4,
 "nbformat_minor": 2
}
